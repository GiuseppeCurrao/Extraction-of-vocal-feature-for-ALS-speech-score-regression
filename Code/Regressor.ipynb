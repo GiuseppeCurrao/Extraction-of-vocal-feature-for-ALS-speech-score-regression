{
 "cells": [
  {
   "cell_type": "markdown",
   "metadata": {},
   "source": [
    "# Regression\n",
    "\n"
   ]
  },
  {
   "cell_type": "code",
   "execution_count": 1,
   "metadata": {},
   "outputs": [],
   "source": [
    "from sklearn.svm import SVR\n",
    "from sklearn.model_selection import LeaveOneOut, GridSearchCV\n",
    "import scipy.io\n",
    "import os\n",
    "import numpy as np\n",
    "from sklearn.metrics import mean_squared_error, make_scorer"
   ]
  },
  {
   "cell_type": "code",
   "execution_count": 20,
   "metadata": {},
   "outputs": [],
   "source": [
    "path_code = os.getcwd()\n",
    "bbp_dataset = scipy.io.loadmat(os.path.join(path_code, \"../Data/bbp_regr.mat\"))"
   ]
  },
  {
   "cell_type": "code",
   "execution_count": 43,
   "metadata": {},
   "outputs": [],
   "source": [
    "ae = bbp_dataset[\"ae\"].T\n",
    "conf = bbp_dataset[\"conf\"].T\n",
    "wer = bbp_dataset[\"wer\"].T\n",
    "y = bbp_dataset[\"slp\"].T\n",
    "\n",
    "X = np.column_stack((ae, conf, wer))"
   ]
  },
  {
   "cell_type": "code",
   "execution_count": 44,
   "metadata": {},
   "outputs": [
    {
     "ename": "ValueError",
     "evalue": "setting an array element with a sequence. The requested array has an inhomogeneous shape after 1 dimensions. The detected shape was (17,) + inhomogeneous part.",
     "output_type": "error",
     "traceback": [
      "\u001b[1;31m---------------------------------------------------------------------------\u001b[0m",
      "\u001b[1;31mValueError\u001b[0m                                Traceback (most recent call last)",
      "Cell \u001b[1;32mIn[44], line 12\u001b[0m\n\u001b[0;32m      9\u001b[0m     concatenated_row \u001b[38;5;241m=\u001b[39m np\u001b[38;5;241m.\u001b[39mhstack([array\u001b[38;5;241m.\u001b[39mflatten() \u001b[38;5;28;01mfor\u001b[39;00m array \u001b[38;5;129;01min\u001b[39;00m row])\n\u001b[0;32m     10\u001b[0m     X_concatenated\u001b[38;5;241m.\u001b[39mappend(concatenated_row)\n\u001b[1;32m---> 12\u001b[0m X_concatenated \u001b[38;5;241m=\u001b[39m \u001b[43mnp\u001b[49m\u001b[38;5;241;43m.\u001b[39;49m\u001b[43marray\u001b[49m\u001b[43m(\u001b[49m\u001b[43mX_concatenated\u001b[49m\u001b[43m)\u001b[49m\n",
      "\u001b[1;31mValueError\u001b[0m: setting an array element with a sequence. The requested array has an inhomogeneous shape after 1 dimensions. The detected shape was (17,) + inhomogeneous part."
     ]
    }
   ],
   "source": [
    "X_converted = []\n",
    "for row in X:\n",
    "    converted_row = [np.array(array) if isinstance(array, (list, tuple)) else array for array in row]\n",
    "    X_converted.append(converted_row)\n",
    "\n",
    "# Estrarre e concatenare gli array interni di X\n",
    "X_concatenated = []\n",
    "for row in X_converted:\n",
    "    concatenated_row = np.hstack([array.flatten() for array in row])\n",
    "    X_concatenated.append(concatenated_row)\n",
    "\n",
    "X_concatenated = np.array(X_concatenated)\n"
   ]
  },
  {
   "cell_type": "code",
   "execution_count": 34,
   "metadata": {},
   "outputs": [
    {
     "data": {
      "text/plain": [
       "list"
      ]
     },
     "execution_count": 34,
     "metadata": {},
     "output_type": "execute_result"
    }
   ],
   "source": [
    "type(X)"
   ]
  },
  {
   "cell_type": "code",
   "execution_count": 7,
   "metadata": {},
   "outputs": [],
   "source": [
    "loo=LeaveOneOut()"
   ]
  },
  {
   "cell_type": "code",
   "execution_count": 10,
   "metadata": {},
   "outputs": [],
   "source": [
    "y_true = []\n",
    "y_pred = []"
   ]
  },
  {
   "cell_type": "code",
   "execution_count": 12,
   "metadata": {},
   "outputs": [],
   "source": [
    "model = SVR(kernel='linear')\n",
    "param_grid = {\n",
    "    'C': [0.1, 1, 10, 100],\n",
    "    'epsilon': [0.01, 0.1, 0.5, 1]\n",
    "}"
   ]
  },
  {
   "cell_type": "code",
   "execution_count": 31,
   "metadata": {},
   "outputs": [
    {
     "ename": "TypeError",
     "evalue": "only integer scalar arrays can be converted to a scalar index",
     "output_type": "error",
     "traceback": [
      "\u001b[1;31m---------------------------------------------------------------------------\u001b[0m",
      "\u001b[1;31mTypeError\u001b[0m                                 Traceback (most recent call last)",
      "Cell \u001b[1;32mIn[31], line 2\u001b[0m\n\u001b[0;32m      1\u001b[0m \u001b[38;5;28;01mfor\u001b[39;00m train_index, test_index \u001b[38;5;129;01min\u001b[39;00m loo\u001b[38;5;241m.\u001b[39msplit(X):\n\u001b[1;32m----> 2\u001b[0m     X_train, X_test \u001b[38;5;241m=\u001b[39m \u001b[43mX\u001b[49m\u001b[43m[\u001b[49m\u001b[43mtrain_index\u001b[49m\u001b[43m]\u001b[49m, X[test_index]\n\u001b[0;32m      3\u001b[0m     y_train, y_test \u001b[38;5;241m=\u001b[39m y[train_index], y[test_index]\n\u001b[0;32m      5\u001b[0m     \u001b[38;5;66;03m# Modello SVR\u001b[39;00m\n",
      "\u001b[1;31mTypeError\u001b[0m: only integer scalar arrays can be converted to a scalar index"
     ]
    }
   ],
   "source": [
    "for train_index, test_index in loo.split(X):\n",
    "    X_train, X_test = X[train_index], X[test_index]\n",
    "    y_train, y_test = y[train_index], y[test_index]\n",
    "\n",
    "    # Modello SVR\n",
    "    svr = SVR(kernel='linear')\n",
    "\n",
    "    # Grid search con LOOCV interno per selezionare i migliori parametri\n",
    "    inner_loo = LeaveOneOut()\n",
    "    grid_search = GridSearchCV(estimator=svr, param_grid=param_grid, cv=inner_loo, scoring='neg_mean_squared_error', error_score='raise')\n",
    "    grid_search.fit(X_train, y_train)\n",
    "\n",
    "    # Migliori parametri trovati nella grid search interna\n",
    "    best_params = grid_search.best_params_\n",
    "    best_svr = grid_search.best_estimator_\n",
    "\n",
    "    # Fit del modello con i migliori parametri sul training set esterno e predizione\n",
    "    best_svr.fit(X_train, y_train)\n",
    "    y_pred.append(best_svr.predict(X_test)[0])\n",
    "    y_true.append(y_test[0])\n",
    "\n",
    "# Calcolare l'RMSE sui risultati finali\n",
    "final_rmse = np.sqrt(mean_squared_error(y_true, y_pred))\n",
    "print(f'Nested LOOCV RMSE: {final_rmse:.2f}')"
   ]
  },
  {
   "cell_type": "code",
   "execution_count": 10,
   "metadata": {},
   "outputs": [
    {
     "ename": "NameError",
     "evalue": "name 'shape' is not defined",
     "output_type": "error",
     "traceback": [
      "\u001b[1;31m---------------------------------------------------------------------------\u001b[0m",
      "\u001b[1;31mNameError\u001b[0m                                 Traceback (most recent call last)",
      "Cell \u001b[1;32mIn[10], line 1\u001b[0m\n\u001b[1;32m----> 1\u001b[0m \u001b[43mshape\u001b[49m(ae)\n",
      "\u001b[1;31mNameError\u001b[0m: name 'shape' is not defined"
     ]
    }
   ],
   "source": []
  },
  {
   "cell_type": "code",
   "execution_count": null,
   "metadata": {},
   "outputs": [],
   "source": []
  }
 ],
 "metadata": {
  "kernelspec": {
   "display_name": "SLA",
   "language": "python",
   "name": "python3"
  },
  "language_info": {
   "codemirror_mode": {
    "name": "ipython",
    "version": 3
   },
   "file_extension": ".py",
   "mimetype": "text/x-python",
   "name": "python",
   "nbconvert_exporter": "python",
   "pygments_lexer": "ipython3",
   "version": "3.9.19"
  }
 },
 "nbformat": 4,
 "nbformat_minor": 2
}
